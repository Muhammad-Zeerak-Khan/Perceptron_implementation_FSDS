{
 "cells": [
  {
   "cell_type": "code",
   "execution_count": 1,
   "id": "c0772cd8",
   "metadata": {},
   "outputs": [],
   "source": [
    "import numpy as np\n",
    "import pandas as pd \n",
    "import os\n",
    "import matplotlib.pyplot as plt\n",
    "import joblib\n",
    "\n",
    "plt.style.use(\"fivethirtyeight\")"
   ]
  },
  {
   "cell_type": "code",
   "execution_count": 34,
   "id": "75b0d4cf",
   "metadata": {},
   "outputs": [],
   "source": [
    "class Perceptron:\n",
    "    def __init__(self, eta: float = None, epochs: int = None):\n",
    "        self.weights = np.random.randn(3)*1e-4\n",
    "        self.eta = eta # learning rate\n",
    "        self.epochs = epochs # iterations\n",
    "    \n",
    "    def activation_function(self, z):\n",
    "        return np.where(z >= 0, 1, 0)\n",
    "\n",
    "    def _z_outcome(self, inputs, weights):\n",
    "        return np.dot(inputs, weights)\n",
    "    \n",
    "    def fit(self, X, y): \n",
    "        self.X = X\n",
    "        self.y = y\n",
    "        \n",
    "        X_with_bias = np.c_[self.X, -np.ones((len(self.X), 1))]\n",
    "        print(f\"X with bias: \\n{X_with_bias}\")\n",
    "        \n",
    "        for epoch in range(self.epochs):\n",
    "            \n",
    "            z = self._z_outcome(X_with_bias, self.weights)\n",
    "            y_hat = self.activation_function(z)\n",
    "            \n",
    "            #Error calculation\n",
    "            self.error = self.y - y_hat\n",
    "            \n",
    "            #Weight Update Rule\n",
    "            self.weights = self.weights + self.eta* np.dot(X_with_bias.T, self.error)\n",
    "   \n",
    "    def predict(self, X):\n",
    "        \n",
    "        X_with_bias = np.c_[X, -np.ones((len(X), 1))]\n",
    "        z = self._z_outcome(X_with_bias, self.weights) \n",
    "        #self.weights will get the updated weights after the epochs are exhausted\n",
    "        \n",
    "        return self.activation_function(z)\n",
    "        "
   ]
  },
  {
   "cell_type": "code",
   "execution_count": 35,
   "id": "57c3d6f3",
   "metadata": {},
   "outputs": [
    {
     "data": {
      "text/html": [
       "<div>\n",
       "<style scoped>\n",
       "    .dataframe tbody tr th:only-of-type {\n",
       "        vertical-align: middle;\n",
       "    }\n",
       "\n",
       "    .dataframe tbody tr th {\n",
       "        vertical-align: top;\n",
       "    }\n",
       "\n",
       "    .dataframe thead th {\n",
       "        text-align: right;\n",
       "    }\n",
       "</style>\n",
       "<table border=\"1\" class=\"dataframe\">\n",
       "  <thead>\n",
       "    <tr style=\"text-align: right;\">\n",
       "      <th></th>\n",
       "      <th>x1</th>\n",
       "      <th>x2</th>\n",
       "      <th>y</th>\n",
       "    </tr>\n",
       "  </thead>\n",
       "  <tbody>\n",
       "    <tr>\n",
       "      <th>0</th>\n",
       "      <td>0</td>\n",
       "      <td>0</td>\n",
       "      <td>0</td>\n",
       "    </tr>\n",
       "    <tr>\n",
       "      <th>1</th>\n",
       "      <td>0</td>\n",
       "      <td>1</td>\n",
       "      <td>1</td>\n",
       "    </tr>\n",
       "    <tr>\n",
       "      <th>2</th>\n",
       "      <td>1</td>\n",
       "      <td>0</td>\n",
       "      <td>1</td>\n",
       "    </tr>\n",
       "    <tr>\n",
       "      <th>3</th>\n",
       "      <td>1</td>\n",
       "      <td>1</td>\n",
       "      <td>1</td>\n",
       "    </tr>\n",
       "  </tbody>\n",
       "</table>\n",
       "</div>"
      ],
      "text/plain": [
       "   x1  x2  y\n",
       "0   0   0  0\n",
       "1   0   1  1\n",
       "2   1   0  1\n",
       "3   1   1  1"
      ]
     },
     "execution_count": 35,
     "metadata": {},
     "output_type": "execute_result"
    }
   ],
   "source": [
    "#Initialization of the OR GATE\n",
    "\n",
    "OR={\n",
    "    \"x1\" : [0,0,1,1],\n",
    "    \"x2\" : [0,1,0,1],\n",
    "    \"y\"  : [0,1,1,1]\n",
    "}\n",
    "\n",
    "df_OR = pd.DataFrame(OR)\n",
    "df_OR"
   ]
  },
  {
   "cell_type": "code",
   "execution_count": 36,
   "id": "ef0a8d7e",
   "metadata": {},
   "outputs": [],
   "source": [
    "def prepare_data(df, target_col = \"y\"):\n",
    "    X = df.drop(target_col, axis = 1)\n",
    "    y = df[target_col]\n",
    "    \n",
    "    return X, y"
   ]
  },
  {
   "cell_type": "code",
   "execution_count": 37,
   "id": "b3186039",
   "metadata": {},
   "outputs": [],
   "source": [
    "X, y = prepare_data(df_OR)\n",
    "\n",
    "ETA = 0.1\n",
    "EPOCHS = 10\n",
    "\n",
    "model_or = Perceptron(eta=ETA, epochs= EPOCHS)\n"
   ]
  },
  {
   "cell_type": "code",
   "execution_count": 38,
   "id": "c6c8e09c",
   "metadata": {},
   "outputs": [
    {
     "name": "stdout",
     "output_type": "stream",
     "text": [
      "X with bias: \n",
      "[[ 0.  0. -1.]\n",
      " [ 0.  1. -1.]\n",
      " [ 1.  0. -1.]\n",
      " [ 1.  1. -1.]]\n"
     ]
    }
   ],
   "source": [
    "model_or.fit(X,y)"
   ]
  },
  {
   "cell_type": "code",
   "execution_count": 39,
   "id": "e589a167",
   "metadata": {},
   "outputs": [
    {
     "data": {
      "text/plain": [
       "array([0, 1, 1, 1])"
      ]
     },
     "execution_count": 39,
     "metadata": {},
     "output_type": "execute_result"
    }
   ],
   "source": [
    "model_or.predict(X)"
   ]
  },
  {
   "cell_type": "code",
   "execution_count": 48,
   "id": "25ebab55",
   "metadata": {},
   "outputs": [
    {
     "data": {
      "text/plain": [
       "array([0])"
      ]
     },
     "execution_count": 48,
     "metadata": {},
     "output_type": "execute_result"
    }
   ],
   "source": [
    "model_or.predict(X=[[0,0]])"
   ]
  },
  {
   "cell_type": "code",
   "execution_count": 128,
   "id": "7d3b7f0a",
   "metadata": {},
   "outputs": [
    {
     "data": {
      "text/html": [
       "<div>\n",
       "<style scoped>\n",
       "    .dataframe tbody tr th:only-of-type {\n",
       "        vertical-align: middle;\n",
       "    }\n",
       "\n",
       "    .dataframe tbody tr th {\n",
       "        vertical-align: top;\n",
       "    }\n",
       "\n",
       "    .dataframe thead th {\n",
       "        text-align: right;\n",
       "    }\n",
       "</style>\n",
       "<table border=\"1\" class=\"dataframe\">\n",
       "  <thead>\n",
       "    <tr style=\"text-align: right;\">\n",
       "      <th></th>\n",
       "      <th>x1</th>\n",
       "      <th>x2</th>\n",
       "      <th>y</th>\n",
       "    </tr>\n",
       "  </thead>\n",
       "  <tbody>\n",
       "    <tr>\n",
       "      <th>0</th>\n",
       "      <td>0</td>\n",
       "      <td>0</td>\n",
       "      <td>0</td>\n",
       "    </tr>\n",
       "    <tr>\n",
       "      <th>1</th>\n",
       "      <td>0</td>\n",
       "      <td>1</td>\n",
       "      <td>1</td>\n",
       "    </tr>\n",
       "    <tr>\n",
       "      <th>2</th>\n",
       "      <td>1</td>\n",
       "      <td>0</td>\n",
       "      <td>1</td>\n",
       "    </tr>\n",
       "    <tr>\n",
       "      <th>3</th>\n",
       "      <td>1</td>\n",
       "      <td>1</td>\n",
       "      <td>0</td>\n",
       "    </tr>\n",
       "  </tbody>\n",
       "</table>\n",
       "</div>"
      ],
      "text/plain": [
       "   x1  x2  y\n",
       "0   0   0  0\n",
       "1   0   1  1\n",
       "2   1   0  1\n",
       "3   1   1  0"
      ]
     },
     "execution_count": 128,
     "metadata": {},
     "output_type": "execute_result"
    }
   ],
   "source": [
    "#Initialization of the XOR GATE\n",
    "\n",
    "XOR={\n",
    "    \"x1\" : [0,0,1,1],\n",
    "    \"x2\" : [0,1,0,1],\n",
    "    \"y\"  : [0,1,1,0]\n",
    "}\n",
    "\n",
    "df_XOR = pd.DataFrame(XOR)\n",
    "df_XOR"
   ]
  },
  {
   "cell_type": "code",
   "execution_count": 137,
   "id": "1d9ea190",
   "metadata": {},
   "outputs": [],
   "source": [
    "X, y = prepare_data(df_XOR)\n",
    "\n",
    "ETA= 0.1\n",
    "EPOCHS = 3000\n",
    "\n",
    "model_xor = Perceptron(eta = ETA, epochs = EPOCHS )"
   ]
  },
  {
   "cell_type": "code",
   "execution_count": 138,
   "id": "a541d194",
   "metadata": {},
   "outputs": [
    {
     "name": "stdout",
     "output_type": "stream",
     "text": [
      "X with bias: \n",
      "[[ 0.  0. -1.]\n",
      " [ 0.  1. -1.]\n",
      " [ 1.  0. -1.]\n",
      " [ 1.  1. -1.]]\n"
     ]
    }
   ],
   "source": [
    "model_xor.fit(X,y)"
   ]
  },
  {
   "cell_type": "code",
   "execution_count": 139,
   "id": "9e870b5d",
   "metadata": {},
   "outputs": [
    {
     "data": {
      "text/plain": [
       "(   x1  x2\n",
       " 0   0   0\n",
       " 1   0   1\n",
       " 2   1   0\n",
       " 3   1   1,\n",
       " 0    0\n",
       " 1    1\n",
       " 2    1\n",
       " 3    0\n",
       " Name: y, dtype: int64)"
      ]
     },
     "execution_count": 139,
     "metadata": {},
     "output_type": "execute_result"
    }
   ],
   "source": [
    "X,y"
   ]
  },
  {
   "cell_type": "code",
   "execution_count": 140,
   "id": "d09102ac",
   "metadata": {},
   "outputs": [
    {
     "data": {
      "text/plain": [
       "array([0])"
      ]
     },
     "execution_count": 140,
     "metadata": {},
     "output_type": "execute_result"
    }
   ],
   "source": [
    "model_xor.predict([[0,1]])"
   ]
  },
  {
   "cell_type": "markdown",
   "id": "ad2dc08d",
   "metadata": {},
   "source": [
    "As XOR gate is non linear is not separable by a straight line unlike OR and AND."
   ]
  },
  {
   "cell_type": "code",
   "execution_count": 141,
   "id": "81c3e0fe",
   "metadata": {},
   "outputs": [
    {
     "data": {
      "text/html": [
       "<div>\n",
       "<style scoped>\n",
       "    .dataframe tbody tr th:only-of-type {\n",
       "        vertical-align: middle;\n",
       "    }\n",
       "\n",
       "    .dataframe tbody tr th {\n",
       "        vertical-align: top;\n",
       "    }\n",
       "\n",
       "    .dataframe thead th {\n",
       "        text-align: right;\n",
       "    }\n",
       "</style>\n",
       "<table border=\"1\" class=\"dataframe\">\n",
       "  <thead>\n",
       "    <tr style=\"text-align: right;\">\n",
       "      <th></th>\n",
       "      <th>x1</th>\n",
       "      <th>x2</th>\n",
       "      <th>y</th>\n",
       "    </tr>\n",
       "  </thead>\n",
       "  <tbody>\n",
       "    <tr>\n",
       "      <th>0</th>\n",
       "      <td>0</td>\n",
       "      <td>0</td>\n",
       "      <td>0</td>\n",
       "    </tr>\n",
       "    <tr>\n",
       "      <th>1</th>\n",
       "      <td>0</td>\n",
       "      <td>1</td>\n",
       "      <td>0</td>\n",
       "    </tr>\n",
       "    <tr>\n",
       "      <th>2</th>\n",
       "      <td>1</td>\n",
       "      <td>0</td>\n",
       "      <td>0</td>\n",
       "    </tr>\n",
       "    <tr>\n",
       "      <th>3</th>\n",
       "      <td>1</td>\n",
       "      <td>1</td>\n",
       "      <td>1</td>\n",
       "    </tr>\n",
       "  </tbody>\n",
       "</table>\n",
       "</div>"
      ],
      "text/plain": [
       "   x1  x2  y\n",
       "0   0   0  0\n",
       "1   0   1  0\n",
       "2   1   0  0\n",
       "3   1   1  1"
      ]
     },
     "execution_count": 141,
     "metadata": {},
     "output_type": "execute_result"
    }
   ],
   "source": [
    "#Initialization of the AND GATE\n",
    "\n",
    "AND={\n",
    "    \"x1\" : [0,0,1,1],\n",
    "    \"x2\" : [0,1,0,1],\n",
    "    \"y\"  : [0,0,0,1]\n",
    "}\n",
    "\n",
    "df_AND = pd.DataFrame(AND)\n",
    "df_AND"
   ]
  },
  {
   "cell_type": "code",
   "execution_count": 148,
   "id": "bdf4e47e",
   "metadata": {},
   "outputs": [],
   "source": [
    "X, y = prepare_data(df_AND)\n",
    "\n",
    "ETA= 0.1\n",
    "EPOCHS = 10\n",
    "\n",
    "model_and = Perceptron(eta = ETA, epochs = EPOCHS )"
   ]
  },
  {
   "cell_type": "code",
   "execution_count": 149,
   "id": "c278b9c8",
   "metadata": {},
   "outputs": [
    {
     "data": {
      "text/plain": [
       "(   x1  x2\n",
       " 0   0   0\n",
       " 1   0   1\n",
       " 2   1   0\n",
       " 3   1   1,\n",
       " 0    0\n",
       " 1    0\n",
       " 2    0\n",
       " 3    1\n",
       " Name: y, dtype: int64)"
      ]
     },
     "execution_count": 149,
     "metadata": {},
     "output_type": "execute_result"
    }
   ],
   "source": [
    "X,y"
   ]
  },
  {
   "cell_type": "code",
   "execution_count": 150,
   "id": "b53250af",
   "metadata": {},
   "outputs": [
    {
     "name": "stdout",
     "output_type": "stream",
     "text": [
      "X with bias: \n",
      "[[ 0.  0. -1.]\n",
      " [ 0.  1. -1.]\n",
      " [ 1.  0. -1.]\n",
      " [ 1.  1. -1.]]\n"
     ]
    }
   ],
   "source": [
    "model_and.fit(X,y)"
   ]
  },
  {
   "cell_type": "code",
   "execution_count": 154,
   "id": "cde0a9aa",
   "metadata": {},
   "outputs": [
    {
     "data": {
      "text/plain": [
       "array([0, 0, 0, 1])"
      ]
     },
     "execution_count": 154,
     "metadata": {},
     "output_type": "execute_result"
    }
   ],
   "source": [
    "model_and.predict(X)"
   ]
  },
  {
   "cell_type": "markdown",
   "id": "14e725b9",
   "metadata": {},
   "source": [
    "#  Drawback of Perceptron\n"
   ]
  },
  {
   "cell_type": "markdown",
   "id": "4c7bf943",
   "metadata": {},
   "source": [
    "As observed above a single perceptron is only capable of separating linear relationship.\n",
    "\n",
    "Solution: \n",
    "* Use more neurons.\n",
    "* Add more hidden layers. That's where Artificial Neural Network (ANN) comes into picture.\n"
   ]
  },
  {
   "cell_type": "markdown",
   "id": "04c959b7",
   "metadata": {},
   "source": [
    "# Explanation"
   ]
  },
  {
   "attachments": {
    "330px-XOR_from_NAND_2.svg.png": {
     "image/png": "[encoded data removed]"
    }
   },
   "cell_type": "markdown",
   "id": "676a7e68",
   "metadata": {},
   "source": [
    "Though XOR is a non linear but such operation can be performed using multiple neurons having linear characteristics.\n",
    "\n",
    "Example:\n",
    "A XOR Gate can be implemented using NAND Gates.\n",
    "That is mutiple neurons (linearly capable) are able to replicate the non linearity.\n",
    "\n",
    "Hence, stacking neurons make the network capable of learning complex problems.\n",
    "\n",
    "![330px-XOR_from_NAND_2.svg.png](attachment:330px-XOR_from_NAND_2.svg.png)"
   ]
  },
  {
   "cell_type": "code",
   "execution_count": null,
   "id": "0408ec23",
   "metadata": {},
   "outputs": [],
   "source": []
  }
 ],
 "metadata": {
  "kernelspec": {
   "display_name": "Python 3 (ipykernel)",
   "language": "python",
   "name": "python3"
  },
  "language_info": {
   "codemirror_mode": {
    "name": "ipython",
    "version": 3
   },
   "file_extension": ".py",
   "mimetype": "text/x-python",
   "name": "python",
   "nbconvert_exporter": "python",
   "pygments_lexer": "ipython3",
   "version": "3.7.0"
  }
 },
 "nbformat": 4,
 "nbformat_minor": 5
}
