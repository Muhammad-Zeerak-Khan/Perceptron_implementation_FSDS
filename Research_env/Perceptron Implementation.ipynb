{
 "cells": [
  {
   "cell_type": "code",
   "execution_count": 1,
   "id": "7119c6e1",
   "metadata": {},
   "outputs": [],
   "source": [
    "import numpy as np\n",
    "import pandas as pd \n",
    "import os\n",
    "import matplotlib.pyplot as plt\n",
    "import joblib\n",
    "\n",
    "plt.style.use(\"fivethirtyeight\")"
   ]
  },
  {
   "cell_type": "code",
   "execution_count": 16,
   "id": "2dd7ba43",
   "metadata": {},
   "outputs": [],
   "source": [
    "class Perceptron:\n",
    "    def __init__(self, eta: float = None, epochs: int = None):\n",
    "        self.weights = np.random.randn(3)*1e-4\n",
    "        self.eta = eta # learning rate\n",
    "        self.epochs = epochs # iterations\n",
    "    \n",
    "    def fit(self, X, y): \n",
    "        self.X = X\n",
    "        self.y = y\n",
    "        \n",
    "        X_with_bias = np.c_[self.X, -np.ones((len(self.X), 1))]\n",
    "        print(f\"X with bias: \\n{X_with_bias}\")\n",
    "        "
   ]
  },
  {
   "cell_type": "code",
   "execution_count": 17,
   "id": "57a513f1",
   "metadata": {},
   "outputs": [],
   "source": [
    "obj = Perceptron(eta = 0.01, epochs = 10)"
   ]
  },
  {
   "cell_type": "code",
   "execution_count": 18,
   "id": "11e1792a",
   "metadata": {},
   "outputs": [
    {
     "data": {
      "text/plain": [
       "0.01"
      ]
     },
     "execution_count": 18,
     "metadata": {},
     "output_type": "execute_result"
    }
   ],
   "source": [
    "obj.eta"
   ]
  },
  {
   "cell_type": "code",
   "execution_count": 19,
   "id": "be2cac28",
   "metadata": {},
   "outputs": [
    {
     "data": {
      "text/plain": [
       "10"
      ]
     },
     "execution_count": 19,
     "metadata": {},
     "output_type": "execute_result"
    }
   ],
   "source": [
    "obj.epochs"
   ]
  },
  {
   "cell_type": "code",
   "execution_count": 20,
   "id": "aab9c505",
   "metadata": {},
   "outputs": [
    {
     "data": {
      "text/plain": [
       "array([-1.08063775e-04,  2.43169283e-04,  8.78667141e-05])"
      ]
     },
     "execution_count": 20,
     "metadata": {},
     "output_type": "execute_result"
    }
   ],
   "source": [
    "obj.weights"
   ]
  },
  {
   "cell_type": "code",
   "execution_count": 21,
   "id": "29281cbf",
   "metadata": {},
   "outputs": [
    {
     "data": {
      "text/plain": [
       "array([[1., 1.],\n",
       "       [1., 1.],\n",
       "       [1., 1.],\n",
       "       [1., 1.]])"
      ]
     },
     "execution_count": 21,
     "metadata": {},
     "output_type": "execute_result"
    }
   ],
   "source": [
    "X"
   ]
  },
  {
   "cell_type": "code",
   "execution_count": 22,
   "id": "373283a6",
   "metadata": {},
   "outputs": [],
   "source": [
    "y = np.ones((4,1))"
   ]
  },
  {
   "cell_type": "code",
   "execution_count": 23,
   "id": "ad1a811c",
   "metadata": {},
   "outputs": [
    {
     "name": "stdout",
     "output_type": "stream",
     "text": [
      "X with bias: \n",
      "[[ 1.  1. -1.]\n",
      " [ 1.  1. -1.]\n",
      " [ 1.  1. -1.]\n",
      " [ 1.  1. -1.]]\n"
     ]
    }
   ],
   "source": [
    "obj.fit(X, y)"
   ]
  },
  {
   "cell_type": "code",
   "execution_count": null,
   "id": "8674f2ea",
   "metadata": {},
   "outputs": [],
   "source": []
  }
 ],
 "metadata": {
  "kernelspec": {
   "display_name": "Python 3 (ipykernel)",
   "language": "python",
   "name": "python3"
  },
  "language_info": {
   "codemirror_mode": {
    "name": "ipython",
    "version": 3
   },
   "file_extension": ".py",
   "mimetype": "text/x-python",
   "name": "python",
   "nbconvert_exporter": "python",
   "pygments_lexer": "ipython3",
   "version": "3.7.0"
  }
 },
 "nbformat": 4,
 "nbformat_minor": 5
}
